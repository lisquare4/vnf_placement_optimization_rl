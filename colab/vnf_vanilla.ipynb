{
  "nbformat": 4,
  "nbformat_minor": 0,
  "metadata": {
    "accelerator": "GPU",
    "colab": {
      "name": "vnf_vanilla.ipynb",
      "provenance": [],
      "collapsed_sections": [],
      "toc_visible": true
    },
    "kernelspec": {
      "display_name": "Python 3",
      "name": "python3"
    }
  },
  "cells": [
    {
      "cell_type": "markdown",
      "metadata": {
        "id": "9j92y4TeE7QV"
      },
      "source": [
        "# Colab 运行 *VNF（without FL module）*\n",
        "\n",
        "> Indented block\n",
        "\n",
        "> Indented block\n",
        "\n",
        "\n",
        "\n",
        "\n",
        "\n",
        "*  ## 载入Google Drive\n",
        "\n",
        "\n"
      ]
    },
    {
      "cell_type": "code",
      "metadata": {
        "colab": {
          "base_uri": "https://localhost:8080/"
        },
        "id": "AaGSsIO25FEE",
        "outputId": "0e673f31-961d-4621-cb44-0b0b71c47c4b"
      },
      "source": [
        "!nvidia-smi"
      ],
      "execution_count": null,
      "outputs": [
        {
          "output_type": "stream",
          "text": [
            "Tue Dec 15 15:39:35 2020       \n",
            "+-----------------------------------------------------------------------------+\n",
            "| NVIDIA-SMI 455.45.01    Driver Version: 418.67       CUDA Version: 10.1     |\n",
            "|-------------------------------+----------------------+----------------------+\n",
            "| GPU  Name        Persistence-M| Bus-Id        Disp.A | Volatile Uncorr. ECC |\n",
            "| Fan  Temp  Perf  Pwr:Usage/Cap|         Memory-Usage | GPU-Util  Compute M. |\n",
            "|                               |                      |               MIG M. |\n",
            "|===============================+======================+======================|\n",
            "|   0  Tesla P4            Off  | 00000000:00:04.0 Off |                    0 |\n",
            "| N/A   47C    P8     8W /  75W |      0MiB /  7611MiB |      0%      Default |\n",
            "|                               |                      |                 ERR! |\n",
            "+-------------------------------+----------------------+----------------------+\n",
            "                                                                               \n",
            "+-----------------------------------------------------------------------------+\n",
            "| Processes:                                                                  |\n",
            "|  GPU   GI   CI        PID   Type   Process name                  GPU Memory |\n",
            "|        ID   ID                                                   Usage      |\n",
            "|=============================================================================|\n",
            "|  No running processes found                                                 |\n",
            "+-----------------------------------------------------------------------------+\n"
          ],
          "name": "stdout"
        }
      ]
    },
    {
      "cell_type": "code",
      "metadata": {
        "colab": {
          "base_uri": "https://localhost:8080/"
        },
        "id": "YobRRTMZe_kP",
        "outputId": "ca565418-f371-42d6-d95e-7686a6afa92b"
      },
      "source": [
        "from google.colab import drive\n",
        "drive.mount('/content/drive')"
      ],
      "execution_count": null,
      "outputs": [
        {
          "output_type": "stream",
          "text": [
            "Mounted at /content/drive\n"
          ],
          "name": "stdout"
        }
      ]
    },
    {
      "cell_type": "markdown",
      "metadata": {
        "id": "JcbNDf5YFE_n"
      },
      "source": [
        "\n",
        "\n",
        "*   ## 进入Google Drive 内部工程文件（需要配置路径）\n",
        "\n",
        "\n"
      ]
    },
    {
      "cell_type": "code",
      "metadata": {
        "colab": {
          "base_uri": "https://localhost:8080/"
        },
        "id": "zWJn8etHf2vl",
        "outputId": "4ff79b4e-22fd-450d-999c-406d7f96010f"
      },
      "source": [
        "%cd /content/drive/MyDrive/Works/\n"
      ],
      "execution_count": null,
      "outputs": [
        {
          "output_type": "stream",
          "text": [
            "/content/drive/MyDrive/Works\n"
          ],
          "name": "stdout"
        }
      ]
    },
    {
      "cell_type": "markdown",
      "metadata": {
        "id": "EhiKcy5vFjRa"
      },
      "source": [
        "* ## clone 工程代码"
      ]
    },
    {
      "cell_type": "code",
      "metadata": {
        "colab": {
          "base_uri": "https://localhost:8080/"
        },
        "id": "7gxX-J6nP9pW",
        "outputId": "ad00fb1d-e769-4553-cf17-348134c57688"
      },
      "source": [
        "!git clone https://github.com/lisquare4/vnf_placement_optimization_rl\n",
        "\n"
      ],
      "execution_count": null,
      "outputs": [
        {
          "output_type": "stream",
          "text": [
            "Cloning into 'vnf_placement_optimization_rl'...\n",
            "remote: Enumerating objects: 55, done.\u001b[K\n",
            "remote: Counting objects: 100% (55/55), done.\u001b[K\n",
            "remote: Compressing objects: 100% (28/28), done.\u001b[K\n",
            "remote: Total 308 (delta 38), reused 40 (delta 26), pack-reused 253\u001b[K\n",
            "Receiving objects: 100% (308/308), 41.49 MiB | 10.28 MiB/s, done.\n",
            "Resolving deltas: 100% (191/191), done.\n",
            "Checking out files: 100% (220/220), done.\n"
          ],
          "name": "stdout"
        }
      ]
    },
    {
      "cell_type": "code",
      "metadata": {
        "colab": {
          "base_uri": "https://localhost:8080/"
        },
        "id": "IZpA7E12oSI-",
        "outputId": "9cdf9caf-d012-4c1a-df45-094c2844eae0"
      },
      "source": [
        "%cd vnf_placement_optimization_rl\r\n",
        "\r\n"
      ],
      "execution_count": null,
      "outputs": [
        {
          "output_type": "stream",
          "text": [
            "/content/drive/My Drive/Works/vnf_placement_optimization_rl\n",
            "M\tplacement.dzn\n",
            "M\tplacement.mzn\n",
            "M\tscript_learning\n",
            "M\tscript_test\n",
            "Already on 'FL'\n",
            "Your branch is up to date with 'origin/FL'.\n"
          ],
          "name": "stdout"
        }
      ]
    },
    {
      "cell_type": "code",
      "metadata": {
        "id": "vD45SsR3psBV"
      },
      "source": [
        "!pip install pymzn jinja2 tqdm matplotlib matplotlib tqdm tensorflow==1.8.0 tensorflow-gpu==1.8.0"
      ],
      "execution_count": null,
      "outputs": []
    },
    {
      "cell_type": "markdown",
      "metadata": {
        "id": "vu_H5wlzFypD"
      },
      "source": [
        "* ## 修改配置文件，准备训练模型"
      ]
    },
    {
      "cell_type": "code",
      "metadata": {
        "colab": {
          "base_uri": "https://localhost:8080/"
        },
        "id": "9IMqTpQuxszM",
        "outputId": "085b32e2-0c86-4bff-d1df-29eb31d57442"
      },
      "source": [
        "!wget https://developer.nvidia.com/compute/cuda/9.0/Prod/local_installers/cuda-repo-ubuntu1704-9-0-local_9.0.176-1_amd64-deb\r\n",
        "!dpkg -i cuda-repo-ubuntu1704-9-0-local_9.0.176-1_amd64-deb\r\n",
        "!ls /var/cuda-repo-9-0-local | grep .pub\r\n",
        "!apt-key add /var/cuda-repo-9-0-local/7fa2af80.pub\r\n",
        "!apt-get update\r\n",
        "!apt-get install cuda=9.0.176-1"
      ],
      "execution_count": null,
      "outputs": [
        {
          "output_type": "stream",
          "text": [
            "--2020-12-15 15:47:10--  https://developer.nvidia.com/compute/cuda/9.0/Prod/local_installers/cuda-repo-ubuntu1704-9-0-local_9.0.176-1_amd64-deb\n",
            "Resolving developer.nvidia.com (developer.nvidia.com)... 152.199.0.24\n",
            "Connecting to developer.nvidia.com (developer.nvidia.com)|152.199.0.24|:443... connected.\n",
            "HTTP request sent, awaiting response... 302 Found\n",
            "Location: https://developer.download.nvidia.com/compute/cuda/9.0/secure/Prod/local_installers/cuda-repo-ubuntu1704-9-0-local_9.0.176-1_amd64.deb?f9TY1CHE90tWPiYsTvSHcK2ptiTn9U300n977aRVAi7fCWUJ4NfEGVK60W-18lMmeETEvTrvnbEIaVMGZZK2NDRtvs9sptNDOWX_M6b4uOdcgtjJGt-eOXwcLuAewdbtz97ma4HqyKnUcA3amejhohUvclNKsOwh54V9SgYlE1ynDgbfiF3uuIvLjfbIpTpKfg1izr92KpQr_ePaeCV7 [following]\n",
            "--2020-12-15 15:47:10--  https://developer.download.nvidia.com/compute/cuda/9.0/secure/Prod/local_installers/cuda-repo-ubuntu1704-9-0-local_9.0.176-1_amd64.deb?f9TY1CHE90tWPiYsTvSHcK2ptiTn9U300n977aRVAi7fCWUJ4NfEGVK60W-18lMmeETEvTrvnbEIaVMGZZK2NDRtvs9sptNDOWX_M6b4uOdcgtjJGt-eOXwcLuAewdbtz97ma4HqyKnUcA3amejhohUvclNKsOwh54V9SgYlE1ynDgbfiF3uuIvLjfbIpTpKfg1izr92KpQr_ePaeCV7\n",
            "Resolving developer.download.nvidia.com (developer.download.nvidia.com)... 152.195.19.142\n",
            "Connecting to developer.download.nvidia.com (developer.download.nvidia.com)|152.195.19.142|:443... connected.\n",
            "HTTP request sent, awaiting response... 200 OK\n",
            "Length: 1216133170 (1.1G) [application/x-deb]\n",
            "Saving to: ‘cuda-repo-ubuntu1704-9-0-local_9.0.176-1_amd64-deb.3’\n",
            "\n",
            "cuda-repo-ubuntu170 100%[===================>]   1.13G  47.3MB/s    in 24s     \n",
            "\n",
            "2020-12-15 15:47:34 (49.0 MB/s) - ‘cuda-repo-ubuntu1704-9-0-local_9.0.176-1_amd64-deb.3’ saved [1216133170/1216133170]\n",
            "\n",
            "Selecting previously unselected package cuda-repo-ubuntu1704-9-0-local.\n",
            "(Reading database ... 144865 files and directories currently installed.)\n",
            "Preparing to unpack cuda-repo-ubuntu1704-9-0-local_9.0.176-1_amd64-deb ...\n",
            "Unpacking cuda-repo-ubuntu1704-9-0-local (9.0.176-1) ...\n"
          ],
          "name": "stdout"
        }
      ]
    },
    {
      "cell_type": "code",
      "metadata": {
        "id": "mn8wq72nsKqF"
      },
      "source": [
        "!rm -rf save/fl_*"
      ],
      "execution_count": null,
      "outputs": []
    },
    {
      "cell_type": "code",
      "metadata": {
        "id": "ThCIbW5PYgh7"
      },
      "source": [
        "!git checkout fl_learn\n",
        "!sed -n 1,2p fl_learn | bash"
      ],
      "execution_count": null,
      "outputs": []
    }
  ]
}